{
 "cells": [
  {
   "cell_type": "code",
   "execution_count": 253,
   "id": "8b207c07",
   "metadata": {},
   "outputs": [],
   "source": [
    "import numpy as np\n",
    "import scipy as sp\n",
    "import sympy as smp\n",
    "import matplotlib.pyplot as plt\n",
    "\n",
    "from sympy import Piecewise, Interval\n",
    "\n",
    "from scipy.integrate import quad\n",
    "from scipy.integrate import cumulative_trapezoid"
   ]
  },
  {
   "cell_type": "markdown",
   "id": "6a81f23a",
   "metadata": {},
   "source": [
    "### Definindo algumas funções conhecidas"
   ]
  },
  {
   "cell_type": "code",
   "execution_count": 254,
   "id": "0114a8ba",
   "metadata": {},
   "outputs": [],
   "source": [
    "from sympy import I"
   ]
  },
  {
   "cell_type": "code",
   "execution_count": 255,
   "id": "d5d02100",
   "metadata": {},
   "outputs": [],
   "source": [
    "t = smp.symbols('t', real=True)\n",
    "T_variable = smp.symbols('T', real=True)"
   ]
  },
  {
   "cell_type": "code",
   "execution_count": 243,
   "id": "2c16b16a",
   "metadata": {},
   "outputs": [
    {
     "data": {
      "text/latex": [
       "$\\displaystyle \\begin{cases} 0 & \\text{for}\\: t > 1.0 \\vee t < -1.0 \\\\1 & \\text{otherwise} \\end{cases}$"
      ],
      "text/plain": [
       "Piecewise((0, (t > 1.0) | (t < -1.0)), (1, True))"
      ]
     },
     "execution_count": 243,
     "metadata": {},
     "output_type": "execute_result"
    }
   ],
   "source": [
    "u_t = Piecewise((0, t < 0), (1, t >= 0))\n",
    "u_t"
   ]
  },
  {
   "cell_type": "code",
   "execution_count": null,
   "id": "fae111f1",
   "metadata": {},
   "outputs": [],
   "source": [
    "rect_t = Piecewise(\n",
    "    (0, t <  -(T_variable/2)),\n",
    "    (0, t >  +(T_variable/2)),\n",
    "    (1, t >= -(T_variable/2))\n",
    ")\n",
    "rect_t"
   ]
  },
  {
   "cell_type": "markdown",
   "id": "1e55453a",
   "metadata": {},
   "source": [
    "### Definindo variáveis e contantes"
   ]
  },
  {
   "cell_type": "code",
   "execution_count": 192,
   "id": "57dab0c6",
   "metadata": {},
   "outputs": [],
   "source": [
    "from sympy import I"
   ]
  },
  {
   "cell_type": "code",
   "execution_count": 217,
   "id": "12321eb8",
   "metadata": {},
   "outputs": [],
   "source": [
    "a = smp.symbols('a', real=True)\n",
    "a = 5"
   ]
  },
  {
   "cell_type": "markdown",
   "id": "507d4c50",
   "metadata": {},
   "source": [
    "### Definindo função x(t)"
   ]
  },
  {
   "cell_type": "code",
   "execution_count": 218,
   "id": "a7b6f984",
   "metadata": {},
   "outputs": [
    {
     "data": {
      "text/latex": [
       "$\\displaystyle \\begin{cases} 0 & \\text{for}\\: t < 0 \\\\e^{- 5 t} & \\text{otherwise} \\end{cases}$"
      ],
      "text/plain": [
       "Piecewise((0, t < 0), (exp(-5*t), True))"
      ]
     },
     "execution_count": 218,
     "metadata": {},
     "output_type": "execute_result"
    }
   ],
   "source": [
    "x_t = smp.exp(a*(-t)) * u_t\n",
    "\n",
    "x_t = x_t.simplify()\n",
    "x_t"
   ]
  },
  {
   "cell_type": "markdown",
   "id": "b81b708f",
   "metadata": {},
   "source": [
    "## Transformada de Fourier"
   ]
  },
  {
   "cell_type": "code",
   "execution_count": 219,
   "id": "01febbf1",
   "metadata": {},
   "outputs": [],
   "source": [
    "w = smp.symbols('w', real=True)"
   ]
  },
  {
   "cell_type": "code",
   "execution_count": 220,
   "id": "87b8f2f4",
   "metadata": {},
   "outputs": [
    {
     "data": {
      "text/latex": [
       "$\\displaystyle \\begin{cases} 0 & \\text{for}\\: t < 0 \\\\e^{t \\left(- i w - 5\\right)} & \\text{otherwise} \\end{cases}$"
      ],
      "text/plain": [
       "Piecewise((0, t < 0), (exp(t*(-I*w - 5)), True))"
      ]
     },
     "execution_count": 220,
     "metadata": {},
     "output_type": "execute_result"
    }
   ],
   "source": [
    "function_t = x_t * smp.exp(-I*w*t)\n",
    "function_t = function_t.simplify()\n",
    "function_t"
   ]
  },
  {
   "cell_type": "code",
   "execution_count": 221,
   "id": "a6c540e2",
   "metadata": {},
   "outputs": [
    {
     "data": {
      "text/plain": [
       "(0, oo)"
      ]
     },
     "execution_count": 221,
     "metadata": {},
     "output_type": "execute_result"
    }
   ],
   "source": [
    "# Definição de intervalos da integral\n",
    "intervals = (0, +smp.oo)\n",
    "intervals"
   ]
  },
  {
   "cell_type": "code",
   "execution_count": 222,
   "id": "74be1959",
   "metadata": {},
   "outputs": [
    {
     "data": {
      "text/latex": [
       "$\\displaystyle e^{t \\left(- i w - 5\\right)}$"
      ],
      "text/plain": [
       "exp(t*(-I*w - 5))"
      ]
     },
     "execution_count": 222,
     "metadata": {},
     "output_type": "execute_result"
    }
   ],
   "source": [
    "function_t.args[1][0]"
   ]
  },
  {
   "cell_type": "code",
   "execution_count": 223,
   "id": "9e0ea0b1",
   "metadata": {},
   "outputs": [],
   "source": [
    "function_to_integrate = function_t.args[1][0]"
   ]
  },
  {
   "cell_type": "code",
   "execution_count": 224,
   "id": "6f596239",
   "metadata": {},
   "outputs": [],
   "source": [
    "all_result = smp.integrate(function_to_integrate, (t, intervals[0], intervals[1]))"
   ]
  },
  {
   "cell_type": "code",
   "execution_count": 225,
   "id": "f62bbbcd",
   "metadata": {},
   "outputs": [
    {
     "data": {
      "text/latex": [
       "$\\displaystyle - \\frac{1}{- i w - 5}$"
      ],
      "text/plain": [
       "-1/(-I*w - 5)"
      ]
     },
     "execution_count": 225,
     "metadata": {},
     "output_type": "execute_result"
    }
   ],
   "source": [
    "all_result.args[0][0]"
   ]
  },
  {
   "cell_type": "code",
   "execution_count": 226,
   "id": "5a719c93",
   "metadata": {},
   "outputs": [],
   "source": [
    "# Função que será avaliada pela transformada de Fourier\n",
    "result = all_result.args[0][0]"
   ]
  },
  {
   "cell_type": "markdown",
   "id": "f1db5437",
   "metadata": {},
   "source": [
    "## Plotagem"
   ]
  },
  {
   "cell_type": "markdown",
   "id": "846d0280",
   "metadata": {},
   "source": [
    "### Separação módulo e fase da função"
   ]
  },
  {
   "cell_type": "code",
   "execution_count": 227,
   "id": "4ac22bc2",
   "metadata": {},
   "outputs": [
    {
     "data": {
      "text/latex": [
       "$\\displaystyle \\frac{1}{\\sqrt{w^{2} + 25}}$"
      ],
      "text/plain": [
       "1/sqrt(w**2 + 25)"
      ]
     },
     "execution_count": 227,
     "metadata": {},
     "output_type": "execute_result"
    }
   ],
   "source": [
    "f_abs = smp.Abs(result)\n",
    "f_abs"
   ]
  },
  {
   "cell_type": "code",
   "execution_count": 228,
   "id": "80134e22",
   "metadata": {},
   "outputs": [
    {
     "data": {
      "text/latex": [
       "$\\displaystyle \\arg{\\left(\\frac{1}{i w + 5} \\right)}$"
      ],
      "text/plain": [
       "arg(1/(I*w + 5))"
      ]
     },
     "execution_count": 228,
     "metadata": {},
     "output_type": "execute_result"
    }
   ],
   "source": [
    "f_phase = smp.arg(result)\n",
    "f_phase"
   ]
  },
  {
   "cell_type": "code",
   "execution_count": 229,
   "id": "232d76ad",
   "metadata": {},
   "outputs": [
    {
     "name": "stdout",
     "output_type": "stream",
     "text": [
      "Prossiga normalmente!\n"
     ]
    }
   ],
   "source": [
    "try:\n",
    "    # Tenta avaliar a função em um ponto específico\n",
    "    abs_function = smp.lambdify(w, f_abs, 'numpy')\n",
    "    y = abs_function(1)\n",
    "    print(\"Prossiga normalmente!\")\n",
    "    \n",
    "except Exception as error:\n",
    "    print(f\"Erro: {error}\")\n",
    "\n",
    "    # Defina a função explicitamente\n",
    "    print(\"Você deve definir a função explicitamente!\")\n",
    "    def abs_function(w):\n",
    "        return w"
   ]
  },
  {
   "cell_type": "code",
   "execution_count": 230,
   "id": "9200170f",
   "metadata": {},
   "outputs": [
    {
     "name": "stdout",
     "output_type": "stream",
     "text": [
      "Prossiga normalmente!\n"
     ]
    }
   ],
   "source": [
    "try:\n",
    "    # Tenta avaliar a função em um ponto específico\n",
    "    phase_function = smp.lambdify(w, f_phase, 'numpy')\n",
    "    y = phase_function(1)\n",
    "    print(\"Prossiga normalmente!\")\n",
    "    \n",
    "except Exception as error:\n",
    "    print(f\"Erro: {error}\")\n",
    "\n",
    "    # Defina a função explicitamente\n",
    "    print(\"Você deve definir a função explicitamente!\")\n",
    "    def phase_function(w):\n",
    "        return w"
   ]
  },
  {
   "cell_type": "markdown",
   "id": "cd932962",
   "metadata": {},
   "source": [
    "#### Teste das funções"
   ]
  },
  {
   "cell_type": "code",
   "execution_count": 231,
   "id": "2be5b0b9",
   "metadata": {},
   "outputs": [
    {
     "name": "stdout",
     "output_type": "stream",
     "text": [
      "0.19611613513818404 e -0.19739555984988078\n",
      "0.18569533817705186 e -0.38050637711236485\n",
      "0.17149858514250882 e -0.5404195002705842\n",
      "0.15617376188860607 e -0.6747409422235527\n",
      "0.1414213562373095 e -0.7853981633974483\n",
      "0.12803687993289598 e -0.8760580505981934\n",
      "0.11624763874381928 e -0.9505468408120752\n",
      "0.105999788000636 e -1.0121970114513341\n",
      "0.09712858623572641 e -1.0636978224025597\n"
     ]
    }
   ],
   "source": [
    "for i in range(1, 10):\n",
    "    value1 = abs_function(i)\n",
    "    value2 = phase_function(i)\n",
    "    print(f\"{value1} e {value2}\")"
   ]
  },
  {
   "cell_type": "code",
   "execution_count": 232,
   "id": "ae6329a0",
   "metadata": {},
   "outputs": [],
   "source": [
    "# Geração de valores\n",
    "w_values = np.linspace(-2*2*np.pi, 2*2*np.pi, 100)\n",
    "\n",
    "# Gerar valores para o módulo e fase do sinal\n",
    "X_w_abs = abs_function(w_values)\n",
    "X_w_phase = phase_function(w_values)"
   ]
  },
  {
   "cell_type": "code",
   "execution_count": 233,
   "id": "9e6dbace",
   "metadata": {},
   "outputs": [
    {
     "data": {
      "text/plain": [
       "array([0.07393957, 0.07525015, 0.07660401, 0.07800306, 0.07944934,\n",
       "       0.08094496, 0.08249216, 0.08409326, 0.0857507 , 0.08746701,\n",
       "       0.08924483, 0.09108691, 0.09299611, 0.09497536, 0.09702769,\n",
       "       0.0991562 , 0.10136404, 0.10365439, 0.10603046, 0.1084954 ,\n",
       "       0.11105227, 0.11370402, 0.11645335, 0.1193027 , 0.12225405,\n",
       "       0.12530885, 0.12846787, 0.13173094, 0.1350968 , 0.13856283,\n",
       "       0.1421247 , 0.14577612, 0.14950841, 0.15331012, 0.15716661,\n",
       "       0.16105965, 0.16496699, 0.16886208, 0.17271377, 0.17648631,\n",
       "       0.18013945, 0.1836289 , 0.18690708, 0.18992427, 0.19263014,\n",
       "       0.1949756 , 0.19691493, 0.19840801, 0.19942248, 0.19993558,\n",
       "       0.19993558, 0.19942248, 0.19840801, 0.19691493, 0.1949756 ,\n",
       "       0.19263014, 0.18992427, 0.18690708, 0.1836289 , 0.18013945,\n",
       "       0.17648631, 0.17271377, 0.16886208, 0.16496699, 0.16105965,\n",
       "       0.15716661, 0.15331012, 0.14950841, 0.14577612, 0.1421247 ,\n",
       "       0.13856283, 0.1350968 , 0.13173094, 0.12846787, 0.12530885,\n",
       "       0.12225405, 0.1193027 , 0.11645335, 0.11370402, 0.11105227,\n",
       "       0.1084954 , 0.10603046, 0.10365439, 0.10136404, 0.0991562 ,\n",
       "       0.09702769, 0.09497536, 0.09299611, 0.09108691, 0.08924483,\n",
       "       0.08746701, 0.0857507 , 0.08409326, 0.08249216, 0.08094496,\n",
       "       0.07944934, 0.07800306, 0.07660401, 0.07525015, 0.07393957])"
      ]
     },
     "execution_count": 233,
     "metadata": {},
     "output_type": "execute_result"
    }
   ],
   "source": [
    "X_w_abs"
   ]
  },
  {
   "cell_type": "code",
   "execution_count": 234,
   "id": "62261c73",
   "metadata": {},
   "outputs": [
    {
     "data": {
      "text/plain": [
       "array([ 1.19211252,  1.18504995,  1.17773288,  1.17014812,  1.16228162,\n",
       "        1.15411844,  1.14564261,  1.1368371 ,  1.12768376,  1.11816319,\n",
       "        1.10825466,  1.09793605,  1.08718369,  1.07597229,  1.06427484,\n",
       "        1.05206245,  1.03930422,  1.02596719,  1.01201613,  0.99741347,\n",
       "        0.98211914,  0.96609051,  0.94928224,  0.93164627,  0.91313173,\n",
       "        0.89368497,  0.87324967,  0.85176689,  0.82917542,  0.80541209,\n",
       "        0.78041231,  0.7541108 ,  0.72644252,  0.6973439 ,  0.66675432,\n",
       "        0.63461798,  0.60088608,  0.56551939,  0.52849115,  0.48979025,\n",
       "        0.44942455,  0.40742427,  0.3638451 ,  0.31877091,  0.27231558,\n",
       "        0.22462377,  0.17587029,  0.12625784,  0.07601308,  0.02538116,\n",
       "       -0.02538116, -0.07601308, -0.12625784, -0.17587029, -0.22462377,\n",
       "       -0.27231558, -0.31877091, -0.3638451 , -0.40742427, -0.44942455,\n",
       "       -0.48979025, -0.52849115, -0.56551939, -0.60088608, -0.63461798,\n",
       "       -0.66675432, -0.6973439 , -0.72644252, -0.7541108 , -0.78041231,\n",
       "       -0.80541209, -0.82917542, -0.85176689, -0.87324967, -0.89368497,\n",
       "       -0.91313173, -0.93164627, -0.94928224, -0.96609051, -0.98211914,\n",
       "       -0.99741347, -1.01201613, -1.02596719, -1.03930422, -1.05206245,\n",
       "       -1.06427484, -1.07597229, -1.08718369, -1.09793605, -1.10825466,\n",
       "       -1.11816319, -1.12768376, -1.1368371 , -1.14564261, -1.15411844,\n",
       "       -1.16228162, -1.17014812, -1.17773288, -1.18504995, -1.19211252])"
      ]
     },
     "execution_count": 234,
     "metadata": {},
     "output_type": "execute_result"
    }
   ],
   "source": [
    "X_w_phase"
   ]
  },
  {
   "cell_type": "code",
   "execution_count": 235,
   "id": "92a6a223",
   "metadata": {},
   "outputs": [
    {
     "data": {
      "image/png": "[encoded data removed]",
      "text/plain": [
       "<Figure size 640x480 with 1 Axes>"
      ]
     },
     "metadata": {},
     "output_type": "display_data"
    }
   ],
   "source": [
    "plt.plot(w_values, X_w_abs, label='Módulo')\n",
    "plt.plot(w_values, X_w_phase, label='Fase')\n",
    "plt.xlabel('w')\n",
    "plt.ylabel('X(w)')\n",
    "plt.title('Transformada de Fourier')\n",
    "plt.legend()\n",
    "plt.grid(True)\n",
    "plt.show()"
   ]
  },
  {
   "cell_type": "markdown",
   "id": "47dca2b3",
   "metadata": {},
   "source": [
    "### Transformando Piecewise em função lambda"
   ]
  },
  {
   "cell_type": "code",
   "execution_count": 236,
   "id": "93ea9cfb",
   "metadata": {},
   "outputs": [
    {
     "name": "stdout",
     "output_type": "stream",
     "text": [
      "Prossiga normalmente!\n"
     ]
    }
   ],
   "source": [
    "try:\n",
    "    # Tenta avaliar a função em um ponto específico\n",
    "    complex_function = smp.lambdify(w, result, 'numpy')\n",
    "    y = complex_function(1)\n",
    "    print(\"Prossiga normalmente!\")\n",
    "    \n",
    "except Exception as error:\n",
    "    print(f\"Erro: {error}\")\n",
    "\n",
    "    # Defina a função explicitamente\n",
    "    print(\"Você deve definir a função explicitamente!\")\n",
    "    def complex_function(w):\n",
    "        return w"
   ]
  },
  {
   "cell_type": "markdown",
   "id": "94f00b0b",
   "metadata": {},
   "source": [
    "#### Teste da função"
   ]
  },
  {
   "cell_type": "code",
   "execution_count": 237,
   "id": "404af1f7",
   "metadata": {},
   "outputs": [
    {
     "name": "stdout",
     "output_type": "stream",
     "text": [
      "(0.1923076923076923-0.038461538461538464j)\n",
      "(0.1724137931034483-0.06896551724137931j)\n",
      "(0.14705882352941177-0.08823529411764706j)\n",
      "(0.12195121951219513-0.09756097560975611j)\n",
      "(0.1-0.1j)\n",
      "(0.08196721311475409-0.0983606557377049j)\n",
      "(0.06756756756756757-0.0945945945945946j)\n",
      "(0.056179775280898875-0.0898876404494382j)\n",
      "(0.04716981132075471-0.08490566037735849j)\n"
     ]
    }
   ],
   "source": [
    "for i in range(1, 10):\n",
    "    value = complex_function(i)\n",
    "    print(value)"
   ]
  },
  {
   "cell_type": "code",
   "execution_count": 238,
   "id": "f6b177c1",
   "metadata": {},
   "outputs": [],
   "source": [
    "# Geração de valores\n",
    "w_values = np.linspace(-2*2*np.pi, 2*2*np.pi, 100)\n",
    "\n",
    "# Gerar valores para o módulo do sinal\n",
    "X_w_abs = np.real(complex_function(w_values))"
   ]
  },
  {
   "cell_type": "code",
   "execution_count": 239,
   "id": "82381806",
   "metadata": {},
   "outputs": [
    {
     "data": {
      "text/plain": [
       "array([0.0273353 , 0.02831293, 0.02934087, 0.03042239, 0.03156099,\n",
       "       0.03276044, 0.03402479, 0.03535839, 0.03676591, 0.03825238,\n",
       "       0.0398232 , 0.04148413, 0.04324138, 0.04510159, 0.04707186,\n",
       "       0.04915976, 0.05137334, 0.05372117, 0.0562123 , 0.05885626,\n",
       "       0.06166303, 0.06464302, 0.06780692, 0.07116567, 0.07473026,\n",
       "       0.07851154, 0.08251996, 0.0867652 , 0.09125573, 0.09599828,\n",
       "       0.10099715, 0.10625339, 0.11176382, 0.11751996, 0.12350672,\n",
       "       0.12970105, 0.13607055, 0.14257201, 0.14915024, 0.15573709,\n",
       "       0.16225111, 0.16859786, 0.17467127, 0.18035613, 0.18553184,\n",
       "       0.19007741, 0.19387744, 0.1968287 , 0.19884663, 0.19987119,\n",
       "       0.19987119, 0.19884663, 0.1968287 , 0.19387744, 0.19007741,\n",
       "       0.18553184, 0.18035613, 0.17467127, 0.16859786, 0.16225111,\n",
       "       0.15573709, 0.14915024, 0.14257201, 0.13607055, 0.12970105,\n",
       "       0.12350672, 0.11751996, 0.11176382, 0.10625339, 0.10099715,\n",
       "       0.09599828, 0.09125573, 0.0867652 , 0.08251996, 0.07851154,\n",
       "       0.07473026, 0.07116567, 0.06780692, 0.06464302, 0.06166303,\n",
       "       0.05885626, 0.0562123 , 0.05372117, 0.05137334, 0.04915976,\n",
       "       0.04707186, 0.04510159, 0.04324138, 0.04148413, 0.0398232 ,\n",
       "       0.03825238, 0.03676591, 0.03535839, 0.03402479, 0.03276044,\n",
       "       0.03156099, 0.03042239, 0.02934087, 0.02831293, 0.0273353 ])"
      ]
     },
     "execution_count": 239,
     "metadata": {},
     "output_type": "execute_result"
    }
   ],
   "source": [
    "X_w_abs"
   ]
  },
  {
   "cell_type": "code",
   "execution_count": 240,
   "id": "8c5fa4ef",
   "metadata": {},
   "outputs": [
    {
     "data": {
      "image/png": "[encoded data removed]",
      "text/plain": [
       "<Figure size 640x480 with 1 Axes>"
      ]
     },
     "metadata": {},
     "output_type": "display_data"
    }
   ],
   "source": [
    "plt.plot(w_values, X_w_abs, label='Módulo')\n",
    "plt.xlabel('w')\n",
    "plt.ylabel('X(w)')\n",
    "plt.title('Transformada de Fourier')\n",
    "plt.legend()\n",
    "plt.grid(True)\n",
    "plt.show()"
   ]
  },
  {
   "cell_type": "markdown",
   "id": "073f6038",
   "metadata": {},
   "source": [
    "# Outros exemplos"
   ]
  },
  {
   "cell_type": "markdown",
   "id": "b653c519",
   "metadata": {},
   "source": [
    "### Usando lambdify"
   ]
  },
  {
   "cell_type": "code",
   "execution_count": 241,
   "id": "f83a4dbb",
   "metadata": {},
   "outputs": [],
   "source": [
    "import sympy as sp\n",
    "import numpy as np\n",
    "import matplotlib.pyplot as plt\n",
    "\n",
    "x = sp.symbols('x')\n",
    "f = sp.Piecewise((sp.exp(-x), x < 0), (sp.cos(x), x >= 0))\n",
    "\n",
    "# Converter a função Piecewise em uma função do Python\n",
    "f_python = sp.lambdify(x, f, 'numpy')\n",
    "\n",
    "# Avaliar a função em pontos específicos\n",
    "x_vals = np.linspace(-2, 2, 100)\n",
    "y_vals = f_python(x_vals)"
   ]
  },
  {
   "cell_type": "code",
   "execution_count": 242,
   "id": "7c24dbce",
   "metadata": {},
   "outputs": [
    {
     "data": {
      "image/png": "[encoded data removed]",
      "text/plain": [
       "<Figure size 640x480 with 1 Axes>"
      ]
     },
     "metadata": {},
     "output_type": "display_data"
    }
   ],
   "source": [
    "plt.plot(x_vals, y_vals)\n",
    "plt.xlabel('x')\n",
    "plt.ylabel('y')\n",
    "plt.title('y(x)')\n",
    "plt.grid(True)\n",
    "plt.show()"
   ]
  }
 ],
 "metadata": {
  "kernelspec": {
   "display_name": "Python 3 (ipykernel)",
   "language": "python",
   "name": "python3"
  },
  "language_info": {
   "codemirror_mode": {
    "name": "ipython",
    "version": 3
   },
   "file_extension": ".py",
   "mimetype": "text/x-python",
   "name": "python",
   "nbconvert_exporter": "python",
   "pygments_lexer": "ipython3",
   "version": "3.10.9"
  }
 },
 "nbformat": 4,
 "nbformat_minor": 5
}
