{
 "cells": [
  {
   "cell_type": "code",
   "execution_count": null,
   "id": "8b207c07",
   "metadata": {},
   "outputs": [],
   "source": [
    "import numpy as np\n",
    "import scipy as sp\n",
    "import sympy as smp\n",
    "import matplotlib.pyplot as plt\n",
    "\n",
    "from scipy.integrate import quad\n",
    "from scipy.integrate import cumulative_trapezoid"
   ]
  },
  {
   "attachments": {},
   "cell_type": "markdown",
   "id": "1e55453a",
   "metadata": {},
   "source": [
    "### Definindo variáveis e contantes"
   ]
  },
  {
   "cell_type": "code",
   "execution_count": null,
   "id": "57dab0c6",
   "metadata": {},
   "outputs": [],
   "source": [
    "from sympy import I"
   ]
  },
  {
   "cell_type": "code",
   "execution_count": null,
   "id": "12321eb8",
   "metadata": {},
   "outputs": [],
   "source": [
    "t, a = smp.symbols('t a', real=True)"
   ]
  },
  {
   "attachments": {},
   "cell_type": "markdown",
   "id": "507d4c50",
   "metadata": {},
   "source": [
    "### Função"
   ]
  },
  {
   "cell_type": "code",
   "execution_count": null,
   "id": "a246070d",
   "metadata": {},
   "outputs": [],
   "source": [
    "x_t = smp.exp(-a*t)\n",
    "x_t"
   ]
  },
  {
   "attachments": {},
   "cell_type": "markdown",
   "id": "b81b708f",
   "metadata": {},
   "source": [
    "## Transformada de Fourier"
   ]
  },
  {
   "cell_type": "code",
   "execution_count": null,
   "id": "01febbf1",
   "metadata": {},
   "outputs": [],
   "source": [
    "w = smp.symbols('w', real=True)"
   ]
  },
  {
   "cell_type": "code",
   "execution_count": null,
   "id": "87b8f2f4",
   "metadata": {},
   "outputs": [],
   "source": [
    "function_t = x_t * smp.exp(-I*w*t)\n",
    "function_t"
   ]
  },
  {
   "cell_type": "code",
   "execution_count": null,
   "id": "6f596239",
   "metadata": {},
   "outputs": [],
   "source": [
    "result = smp.integrate(function_t, (t, 0, smp.oo))\n",
    "result"
   ]
  }
 ],
 "metadata": {
  "kernelspec": {
   "display_name": "Python 3 (ipykernel)",
   "language": "python",
   "name": "python3"
  },
  "language_info": {
   "codemirror_mode": {
    "name": "ipython",
    "version": 3
   },
   "file_extension": ".py",
   "mimetype": "text/x-python",
   "name": "python",
   "nbconvert_exporter": "python",
   "pygments_lexer": "ipython3",
   "version": "3.8.10"
  }
 },
 "nbformat": 4,
 "nbformat_minor": 5
}
