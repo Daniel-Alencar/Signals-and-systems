{
 "cells": [
  {
   "cell_type": "code",
   "execution_count": 1,
   "id": "30df9cdd",
   "metadata": {},
   "outputs": [],
   "source": [
    "import numpy as np\n",
    "import scipy as sp\n",
    "import sympy as smp\n",
    "import matplotlib.pyplot as plt\n",
    "\n",
    "from scipy.integrate import quad\n",
    "from scipy.integrate import cumulative_trapezoid"
   ]
  },
  {
   "cell_type": "markdown",
   "id": "39840a16",
   "metadata": {},
   "source": [
    "### Definindo variáveis e contantes"
   ]
  },
  {
   "cell_type": "code",
   "execution_count": 2,
   "id": "044c9b46",
   "metadata": {},
   "outputs": [],
   "source": [
    "from sympy import I"
   ]
  },
  {
   "cell_type": "code",
   "execution_count": 3,
   "id": "ac7c96ca",
   "metadata": {},
   "outputs": [],
   "source": [
    "t, a = smp.symbols('t a', real=True)"
   ]
  },
  {
   "cell_type": "markdown",
   "id": "dc39511d",
   "metadata": {},
   "source": [
    "### Função"
   ]
  },
  {
   "cell_type": "code",
   "execution_count": 4,
   "id": "eadb961c",
   "metadata": {},
   "outputs": [
    {
     "data": {
      "text/latex": [
       "$\\displaystyle e^{- 5 t}$"
      ],
      "text/plain": [
       "exp(-5*t)"
      ]
     },
     "execution_count": 4,
     "metadata": {},
     "output_type": "execute_result"
    }
   ],
   "source": [
    "x_t = smp.exp(-a*t)\n",
    "x_t"
   ]
  },
  {
   "cell_type": "markdown",
   "id": "dafafc9b",
   "metadata": {},
   "source": [
    "## Transformada de Fourier"
   ]
  },
  {
   "cell_type": "code",
   "execution_count": 5,
   "id": "3e9dd287",
   "metadata": {},
   "outputs": [],
   "source": [
    "w = smp.symbols('w', real=True)"
   ]
  },
  {
   "cell_type": "code",
   "execution_count": 6,
   "id": "51a5030b",
   "metadata": {},
   "outputs": [
    {
     "data": {
      "text/latex": [
       "$\\displaystyle e^{- 5 t} e^{- i t w}$"
      ],
      "text/plain": [
       "exp(-5*t)*exp(-I*t*w)"
      ]
     },
     "execution_count": 6,
     "metadata": {},
     "output_type": "execute_result"
    }
   ],
   "source": [
    "function_t = x_t * smp.exp(-I*w*t)\n",
    "function_t"
   ]
  },
  {
   "cell_type": "code",
   "execution_count": 7,
   "id": "42ec94ab",
   "metadata": {},
   "outputs": [
    {
     "data": {
      "text/latex": [
       "$\\displaystyle \\begin{cases} \\frac{1}{5 \\left(\\frac{i w}{5} + 1\\right)} & \\text{for}\\: \\left|{\\arg{\\left(w \\right)} + \\frac{\\pi}{2}}\\right| \\leq \\frac{\\pi}{2} \\\\\\int\\limits_{0}^{\\infty} e^{- 5 t} e^{- i t w}\\, dt & \\text{otherwise} \\end{cases}$"
      ],
      "text/plain": [
       "Piecewise((1/(5*(I*w/5 + 1)), Abs(arg(w) + pi/2) <= pi/2), (Integral(exp(-5*t)*exp(-I*t*w), (t, 0, oo)), True))"
      ]
     },
     "execution_count": 7,
     "metadata": {},
     "output_type": "execute_result"
    }
   ],
   "source": [
    "smp.integrate(function_t, (t, 0, smp.oo))"
   ]
  },
  {
   "cell_type": "code",
   "execution_count": null,
   "id": "110d3ab2",
   "metadata": {},
   "outputs": [],
   "source": []
  }
 ],
 "metadata": {
  "kernelspec": {
   "display_name": "Python 3 (ipykernel)",
   "language": "python",
   "name": "python3"
  },
  "language_info": {
   "codemirror_mode": {
    "name": "ipython",
    "version": 3
   },
   "file_extension": ".py",
   "mimetype": "text/x-python",
   "name": "python",
   "nbconvert_exporter": "python",
   "pygments_lexer": "ipython3",
   "version": "3.10.9"
  }
 },
 "nbformat": 4,
 "nbformat_minor": 5
}
