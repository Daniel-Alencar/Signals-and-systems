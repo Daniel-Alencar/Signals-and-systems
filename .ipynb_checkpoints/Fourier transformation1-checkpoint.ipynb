{
 "cells": [
  {
   "cell_type": "code",
   "execution_count": 1,
   "id": "8b207c07",
   "metadata": {},
   "outputs": [],
   "source": [
    "import numpy as np\n",
    "import scipy as sp\n",
    "import sympy as smp\n",
    "import matplotlib.pyplot as plt\n",
    "\n",
    "from scipy.integrate import quad\n",
    "from scipy.integrate import cumulative_trapezoid"
   ]
  },
  {
   "cell_type": "markdown",
   "id": "1e55453a",
   "metadata": {},
   "source": [
    "### Definindo variáveis e contantes"
   ]
  },
  {
   "cell_type": "code",
   "execution_count": 2,
   "id": "57dab0c6",
   "metadata": {},
   "outputs": [],
   "source": [
    "from sympy import I"
   ]
  },
  {
   "cell_type": "code",
   "execution_count": 3,
   "id": "12321eb8",
   "metadata": {},
   "outputs": [],
   "source": [
    "t, a = smp.symbols('t a', real=True)\n",
    "a = 5"
   ]
  },
  {
   "cell_type": "markdown",
   "id": "507d4c50",
   "metadata": {},
   "source": [
    "### Função"
   ]
  },
  {
   "cell_type": "code",
   "execution_count": 4,
   "id": "a246070d",
   "metadata": {},
   "outputs": [
    {
     "data": {
      "text/latex": [
       "$\\displaystyle 2 \\cos{\\left(6.28318530717959 t \\right)} + 0.5 \\cos{\\left(62.8318530717959 t \\right)}$"
      ],
      "text/plain": [
       "2*cos(6.28318530717959*t) + 0.5*cos(62.8318530717959*t)"
      ]
     },
     "execution_count": 4,
     "metadata": {},
     "output_type": "execute_result"
    }
   ],
   "source": [
    "# Função x(t)\n",
    "amplitudes_f_t = [2, 0.5]\n",
    "frequencias_f_t = [1, 10]\n",
    "\n",
    "x_t = amplitudes_f_t[0] * smp.cos(frequencias_f_t[0]*2*np.pi*t)\n",
    "x_t += amplitudes_f_t[1] * smp.cos(frequencias_f_t[1]*2*np.pi*t)\n",
    "x_t"
   ]
  },
  {
   "cell_type": "markdown",
   "id": "b81b708f",
   "metadata": {},
   "source": [
    "## Transformada de Fourier"
   ]
  },
  {
   "cell_type": "code",
   "execution_count": 5,
   "id": "01febbf1",
   "metadata": {},
   "outputs": [],
   "source": [
    "w = smp.symbols('w', real=True)"
   ]
  },
  {
   "cell_type": "code",
   "execution_count": 6,
   "id": "87b8f2f4",
   "metadata": {},
   "outputs": [
    {
     "data": {
      "text/latex": [
       "$\\displaystyle \\left(2 \\cos{\\left(6.28318530717959 t \\right)} + 0.5 \\cos{\\left(62.8318530717959 t \\right)}\\right) e^{- i t w}$"
      ],
      "text/plain": [
       "(2*cos(6.28318530717959*t) + 0.5*cos(62.8318530717959*t))*exp(-I*t*w)"
      ]
     },
     "execution_count": 6,
     "metadata": {},
     "output_type": "execute_result"
    }
   ],
   "source": [
    "function_t = x_t * smp.exp(-I*w*t)\n",
    "function_t"
   ]
  },
  {
   "cell_type": "code",
   "execution_count": 7,
   "id": "6f596239",
   "metadata": {},
   "outputs": [
    {
     "data": {
      "text/latex": [
       "$\\displaystyle \\begin{cases} \\frac{0.000126651479552922 i w}{1 - 0.000253302959105844 w^{2}} + \\frac{0.0506605918211689 i w}{1 - 0.0253302959105844 w^{2}} & \\text{for}\\: \\left|{2 \\arg{\\left(w \\right)} + \\pi}\\right| < \\pi \\\\\\int\\limits_{0}^{\\infty} \\left(2 \\cos{\\left(6.28318530717959 t \\right)} + 0.5 \\cos{\\left(62.8318530717959 t \\right)}\\right) e^{- i t w}\\, dt & \\text{otherwise} \\end{cases}$"
      ],
      "text/plain": [
       "Piecewise((0.000126651479552922*I*w/(1 - 0.000253302959105844*w**2) + 0.0506605918211689*I*w/(1 - 0.0253302959105844*w**2), Abs(2*arg(w) + pi) < pi), (Integral((2*cos(6.28318530717959*t) + 0.5*cos(62.8318530717959*t))*exp(-I*t*w), (t, 0, oo)), True))"
      ]
     },
     "execution_count": 7,
     "metadata": {},
     "output_type": "execute_result"
    }
   ],
   "source": [
    "result = smp.integrate(function_t, (t, 0, smp.oo))\n",
    "result"
   ]
  },
  {
   "cell_type": "markdown",
   "id": "b8f95885",
   "metadata": {},
   "source": [
    "### Plotagem"
   ]
  },
  {
   "cell_type": "code",
   "execution_count": 12,
   "id": "126b4c24",
   "metadata": {},
   "outputs": [],
   "source": [
    "complex_function = smp.lambdify(w, result, 'numpy')"
   ]
  },
  {
   "cell_type": "code",
   "execution_count": 10,
   "id": "c3e5f9bf",
   "metadata": {},
   "outputs": [
    {
     "ename": "NameError",
     "evalue": "name 'Integral' is not defined",
     "output_type": "error",
     "traceback": [
      "\u001b[0;31m---------------------------------------------------------------------------\u001b[0m",
      "\u001b[0;31mNameError\u001b[0m                                 Traceback (most recent call last)",
      "Cell \u001b[0;32mIn[10], line 12\u001b[0m\n\u001b[1;32m      9\u001b[0m x \u001b[38;5;241m=\u001b[39m np\u001b[38;5;241m.\u001b[39mlinspace(\u001b[38;5;241m-\u001b[39m\u001b[38;5;241m2\u001b[39m\u001b[38;5;241m*\u001b[39m\u001b[38;5;241m2\u001b[39m\u001b[38;5;241m*\u001b[39mnp\u001b[38;5;241m.\u001b[39mpi, \u001b[38;5;241m2\u001b[39m\u001b[38;5;241m*\u001b[39m\u001b[38;5;241m2\u001b[39m\u001b[38;5;241m*\u001b[39mnp\u001b[38;5;241m.\u001b[39mpi, \u001b[38;5;241m100\u001b[39m)\n\u001b[1;32m     11\u001b[0m \u001b[38;5;66;03m# Evaluate the real and imaginary parts of the function for each x-value\u001b[39;00m\n\u001b[0;32m---> 12\u001b[0m y_real \u001b[38;5;241m=\u001b[39m np\u001b[38;5;241m.\u001b[39mreal(\u001b[43mcomplex_function\u001b[49m\u001b[43m(\u001b[49m\u001b[43mx\u001b[49m\u001b[43m)\u001b[49m)\n\u001b[1;32m     13\u001b[0m y_imag \u001b[38;5;241m=\u001b[39m np\u001b[38;5;241m.\u001b[39mimag(complex_function(x))\n\u001b[1;32m     15\u001b[0m \u001b[38;5;66;03m# Plot the real and imaginary parts of the function\u001b[39;00m\n",
      "File \u001b[0;32m<lambdifygenerated-1>:4\u001b[0m, in \u001b[0;36m_lambdifygenerated\u001b[0;34m(w)\u001b[0m\n\u001b[1;32m      1\u001b[0m \u001b[38;5;28;01mdef\u001b[39;00m \u001b[38;5;21m_lambdifygenerated\u001b[39m(w):\n\u001b[1;32m      2\u001b[0m     \u001b[38;5;28;01mreturn\u001b[39;00m (  \u001b[38;5;66;03m# Not supported in Python with numpy:\u001b[39;00m\n\u001b[1;32m      3\u001b[0m   \u001b[38;5;66;03m# Integral\u001b[39;00m\n\u001b[0;32m----> 4\u001b[0m select([less(\u001b[38;5;28mabs\u001b[39m(\u001b[38;5;241m2\u001b[39m\u001b[38;5;241m*\u001b[39mangle(w) \u001b[38;5;241m+\u001b[39m pi), pi),\u001b[38;5;28;01mTrue\u001b[39;00m], [\u001b[38;5;241m0.000126651479552922\u001b[39m\u001b[38;5;241m*\u001b[39m\u001b[38;5;241m1\u001b[39mj\u001b[38;5;241m*\u001b[39mw\u001b[38;5;241m/\u001b[39m(\u001b[38;5;241m1\u001b[39m \u001b[38;5;241m-\u001b[39m \u001b[38;5;241m0.000253302959105844\u001b[39m\u001b[38;5;241m*\u001b[39mw\u001b[38;5;241m*\u001b[39m\u001b[38;5;241m*\u001b[39m\u001b[38;5;241m2\u001b[39m) \u001b[38;5;241m+\u001b[39m \u001b[38;5;241m0.0506605918211689\u001b[39m\u001b[38;5;241m*\u001b[39m\u001b[38;5;241m1\u001b[39mj\u001b[38;5;241m*\u001b[39mw\u001b[38;5;241m/\u001b[39m(\u001b[38;5;241m1\u001b[39m \u001b[38;5;241m-\u001b[39m \u001b[38;5;241m0.0253302959105844\u001b[39m\u001b[38;5;241m*\u001b[39mw\u001b[38;5;241m*\u001b[39m\u001b[38;5;241m*\u001b[39m\u001b[38;5;241m2\u001b[39m),\u001b[43mIntegral\u001b[49m((\u001b[38;5;241m2\u001b[39m\u001b[38;5;241m*\u001b[39mcos(\u001b[38;5;241m6.28318530717959\u001b[39m\u001b[38;5;241m*\u001b[39mt) \u001b[38;5;241m+\u001b[39m \u001b[38;5;241m0.5\u001b[39m\u001b[38;5;241m*\u001b[39mcos(\u001b[38;5;241m62.8318530717959\u001b[39m\u001b[38;5;241m*\u001b[39mt))\u001b[38;5;241m*\u001b[39mexp(\u001b[38;5;241m-\u001b[39mI\u001b[38;5;241m*\u001b[39mt\u001b[38;5;241m*\u001b[39mw), (t, \u001b[38;5;241m0\u001b[39m, oo))], default\u001b[38;5;241m=\u001b[39mnan))\n",
      "\u001b[0;31mNameError\u001b[0m: name 'Integral' is not defined"
     ]
    }
   ],
   "source": [
    "import numpy as np\n",
    "import matplotlib.pyplot as plt\n",
    "\n",
    "# Define the function\n",
    "def complex_function(w):\n",
    "    return 1 / (5 * ((1j * w / 5) + 1))\n",
    "\n",
    "# Generate x-values\n",
    "x = np.linspace(-2*2*np.pi, 2*2*np.pi, 100)\n",
    "\n",
    "# Evaluate the real and imaginary parts of the function for each x-value\n",
    "y_real = np.real(complex_function(x))\n",
    "y_imag = np.imag(complex_function(x))\n",
    "\n",
    "# Plot the real and imaginary parts of the function\n",
    "plt.plot(x, y_real, label='Real Part')\n",
    "plt.plot(x, y_imag, label='Imaginary Part')\n",
    "plt.xlabel('x')\n",
    "plt.ylabel('Function Value')\n",
    "plt.title('Plot of the Real and Imaginary Parts of the Function')\n",
    "plt.legend()\n",
    "plt.grid(True)\n",
    "plt.show()\n"
   ]
  },
  {
   "cell_type": "code",
   "execution_count": null,
   "id": "d5183a8d",
   "metadata": {},
   "outputs": [],
   "source": []
  }
 ],
 "metadata": {
  "kernelspec": {
   "display_name": "Python 3 (ipykernel)",
   "language": "python",
   "name": "python3"
  },
  "language_info": {
   "codemirror_mode": {
    "name": "ipython",
    "version": 3
   },
   "file_extension": ".py",
   "mimetype": "text/x-python",
   "name": "python",
   "nbconvert_exporter": "python",
   "pygments_lexer": "ipython3",
   "version": "3.10.9"
  }
 },
 "nbformat": 4,
 "nbformat_minor": 5
}
